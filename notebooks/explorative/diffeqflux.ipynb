{
 "cells": [
  {
   "cell_type": "markdown",
   "metadata": {},
   "source": [
    "# DiffEqFlux\n",
    "\n",
    "Foucs = Universal Differential Equations\n",
    "SciMLSensitiviy.jl = underlyin, see https://docs.sciml.ai/SciMLSensitivity/stable/getting_started/\n",
    "\n",
    "Lux.jl neural network are preferred for technical reasons: https://docs.sciml.ai/DiffEqFlux/stable/#Flux.jl-vs-Lux.jl\n",
    "- https://www.youtube.com/watch?v=5jF-c_DNSkg&ab_channel=TheJuliaProgrammingLanguage \n",
    "    - EXPLICIT parameterisation! specifyin the trainable and non-trainable parts of the model. So give explicitly to Zygote what you want to differentiate!\n",
    "    - Similar to Flux for backend!\n",
    "\n",
    "Tutorial on Neural ODE: https://docs.sciml.ai/DiffEqFlux/stable/examples/neural_ode/"
   ]
  },
  {
   "cell_type": "code",
   "execution_count": null,
   "metadata": {},
   "outputs": [],
   "source": [
    "using DrWatson \n",
    "@quickactivate \"diff_gleam\"\n",
    "using ComponentArrays, Lux, DiffEqFlux, DifferentialEquations\n",
    "using Optimization #, OptimizationOptimJL, OptimizationFlux,\n",
    "using Random, Plots"
   ]
  },
  {
   "cell_type": "code",
   "execution_count": null,
   "metadata": {},
   "outputs": [],
   "source": [
    "rng = Random.default_rng() #Return the default global random number generator (RNG).\n",
    "u0 = Float32[2.0; 0.0]\n",
    "datasize = 30\n",
    "tspan = (0.0f0, 1.5f0)\n",
    "tsteps = range(tspan[1],tspan[2], length = datasize)\n",
    "\n",
    "#so the ODE we want to approximate\n",
    "function trueODEfunc(du, u, p, t)\n",
    "    true_A = [-0.1 2.0; -2.0 -0.1]\n",
    "    du .= ((u.^3)'true_A)' #' denotes the transpose\n",
    "end\n",
    "prob_trueode = ODEProblem(trueODEfunc, u0, tspan)\n",
    "sol_trueode = solve(prob_trueode, Tsit5(), saveat = tsteps)\n",
    "plot(sol_trueode) #plot recipe for this solution object"
   ]
  },
  {
   "cell_type": "markdown",
   "metadata": {},
   "source": [
    "So above, we see the real function we want to approximate using the NeuralODE!"
   ]
  },
  {
   "cell_type": "code",
   "execution_count": null,
   "metadata": {},
   "outputs": [],
   "source": [
    "ode_data = Array(sol_trueode) #time and solution as matrix!"
   ]
  },
  {
   "cell_type": "code",
   "execution_count": null,
   "metadata": {},
   "outputs": [],
   "source": [
    "dudt2 = Lux.Chain(\n",
    "    x -> x.^3, #include this as prior knowledge!\n",
    "    Lux.Dense(2,50,tanh),\n",
    "    Lux.Dense(50,2)\n",
    ")"
   ]
  },
  {
   "cell_type": "code",
   "execution_count": null,
   "metadata": {},
   "outputs": [],
   "source": [
    "p, st = Lux.setup(rng, dudt2) #initialise random weights!\n",
    "#p = parmaeter, st = state varaibals"
   ]
  },
  {
   "cell_type": "code",
   "execution_count": null,
   "metadata": {},
   "outputs": [],
   "source": [
    "dudt2 = Lux.Chain(x -> x.^3,\n",
    "                  Lux.Dense(2, 50, tanh),\n",
    "                  Lux.Dense(50, 2))"
   ]
  },
  {
   "cell_type": "code",
   "execution_count": null,
   "metadata": {},
   "outputs": [],
   "source": [
    "prob_neuralode = NeuralODE(dudt2, tspan, Tsit5(), saveat = tsteps)\n",
    "#default is the adjoint method!"
   ]
  },
  {
   "cell_type": "code",
   "execution_count": null,
   "metadata": {},
   "outputs": [],
   "source": [
    "methods(prob_neuralode)"
   ]
  },
  {
   "cell_type": "code",
   "execution_count": null,
   "metadata": {},
   "outputs": [],
   "source": [
    "function predict_neuralode(p)\n",
    "    Array(prob_neuralode(u0, p, st)[1])\n",
    "end\n",
    "\n",
    "function loss_neuralode(p)\n",
    "    pred = predict_neuralode(p)\n",
    "    loss = sum(abs2,ode_data .- pred) #abs2 = square ob the absolute value, applied on each element\n",
    "    return loss, pred\n",
    "end"
   ]
  },
  {
   "cell_type": "markdown",
   "metadata": {},
   "source": [
    "To explain the code above!"
   ]
  },
  {
   "cell_type": "code",
   "execution_count": null,
   "metadata": {},
   "outputs": [],
   "source": [
    "test = prob_neuralode(u0,p,st) #so this is FORWARD mode!"
   ]
  },
  {
   "cell_type": "code",
   "execution_count": null,
   "metadata": {},
   "outputs": [],
   "source": [
    "Array(test[1])"
   ]
  },
  {
   "cell_type": "code",
   "execution_count": null,
   "metadata": {},
   "outputs": [],
   "source": [
    "loss_neuralode(p)[1] #the current loss"
   ]
  },
  {
   "cell_type": "code",
   "execution_count": null,
   "metadata": {},
   "outputs": [],
   "source": [
    "callback = function(p, l, pred; doplot = false)\n",
    "    println(l)\n",
    "    # plot current prediction against data\n",
    "    if doplot\n",
    "        plt = scatter(tsteps, ode_data[1,:], label = \"data\")\n",
    "        scatter!(plt, tsteps, pred[1,:], label = \"prediction\")\n",
    "        display(plot(plt))\n",
    "    end\n",
    "    return false\n",
    "end\n",
    "\n",
    "pinit = ComponentArray(p) #useful for problems with mutable arrays\n",
    "callback(pinit, loss_neuralode(pinit)...) #3 dots to expand"
   ]
  },
  {
   "cell_type": "markdown",
   "metadata": {},
   "source": [
    "First ADAM is used, then LBFGS is used"
   ]
  },
  {
   "cell_type": "code",
   "execution_count": null,
   "metadata": {},
   "outputs": [],
   "source": [
    "#ADtype\n",
    "adtype = Optimization.AutoZygote() #for Reversemode AD\n",
    "\n",
    "#x = the parameters = the old 'p' = what we want to change\n",
    "#p = the hyperparameters of the opitmization\n",
    "loss_ft_for_opt = (x,p) -> loss_neuralode(x) #obliged form\n",
    "optf = Optimization.OptimizationFunction(loss_ft_for_opt, adtype)\n",
    "optprob = Optimization.OptimizationProblem(optf, pinit)"
   ]
  },
  {
   "cell_type": "markdown",
   "metadata": {},
   "source": [
    "This optimisation is based on the library called [Optimization.jl](https://docs.sciml.ai/Optimization/stable/getting_started/)\n",
    "- Defining optimisation problems: https://docs.sciml.ai/Optimization/stable/API/optimization_problem/\n",
    "- Defining optimisation functions: https://docs.sciml.ai/Optimization/stable/API/optimization_function/"
   ]
  },
  {
   "cell_type": "code",
   "execution_count": null,
   "metadata": {},
   "outputs": [],
   "source": [
    "using OptimizationFlux #for using Adam\n",
    "#the first training with Adam\n",
    "result_neuralode = Optimization.solve(\n",
    "    optprob,\n",
    "    Adam(0.05), #0.05 = the learning rate\n",
    "    callback = callback,\n",
    "    maxiters = 300\n",
    ")"
   ]
  },
  {
   "cell_type": "markdown",
   "metadata": {},
   "source": [
    "Retrain with LBFGS"
   ]
  },
  {
   "cell_type": "code",
   "execution_count": null,
   "metadata": {},
   "outputs": [],
   "source": [
    "using OptimizationOptimJL\n",
    "optprob2 = remake(optprob, u0 = result_neuralode.u)\n",
    "results_neuralode2 = Optimization.solve(\n",
    "    optprob2,\n",
    "    Optim.BFGS(),\n",
    "    callback = callback,\n",
    "    allow_f_increases =false #stop near minimum\n",
    ")"
   ]
  },
  {
   "cell_type": "code",
   "execution_count": null,
   "metadata": {},
   "outputs": [],
   "source": [
    "callback(results_neuralode2.u, loss_neuralode(results_neuralode2.u)...; doplot=true)"
   ]
  },
  {
   "cell_type": "code",
   "execution_count": null,
   "metadata": {},
   "outputs": [],
   "source": [
    "using NBInclude\n",
    "nbexport(\"diffeqflux.jl\", \"diffeqflux.ipynb\")"
   ]
  },
  {
   "cell_type": "markdown",
   "metadata": {},
   "source": [
    "## Experiment: try it with a modellingtoolkit interface\n",
    "\n",
    "Use this as example to recreate: https://github.com/SciML/ModelingToolkit.jl/issues/1271"
   ]
  },
  {
   "cell_type": "code",
   "execution_count": null,
   "metadata": {},
   "outputs": [],
   "source": [
    "using ModelingToolkit"
   ]
  },
  {
   "cell_type": "code",
   "execution_count": null,
   "metadata": {},
   "outputs": [],
   "source": [
    "tpsan = (0.0f0,8.0f0)\n",
    "ann = Lux.Chain(\n",
    "    Lux.Dense(1,6),\n",
    "    Lux.Dense(6,6,tanh),\n",
    "    Lux.Dense(6,1)\n",
    ")\n",
    "θ, st = Lux.setup(rng, ann) #initialise random weights!\n",
    "N = length(θ)\n",
    "@variables t, x(t), xx(t)\n",
    "@register_symbolic Lux.apply(ann, x, θ, st)\n",
    "@parameters p\n",
    "D = Differential(t)\n",
    "eqs = [\n",
    "    D(x) ~ xx\n",
    "    D(xx) ~ Lux.apply(ann, x, θ, st)[1]\n",
    "]\n",
    "sys = ODEsystem(eqs,t,[x,xx],[p])\n",
    "# function an(t,p)\n",
    "#     return ann(t,p)[1]^3"
   ]
  },
  {
   "cell_type": "code",
   "execution_count": null,
   "metadata": {},
   "outputs": [],
   "source": [
    "methods(ann)"
   ]
  },
  {
   "cell_type": "code",
   "execution_count": null,
   "metadata": {},
   "outputs": [],
   "source": [
    "using DiffEqFlux, DifferentialEquations, Plots, Statistics,ModelingToolkit\n",
    "tspan = (0.0f0,8.0f0)\n",
    "ann = FastChain(FastDense(1,6,tanh), FastDense(6,6,tanh), FastDense(6,1))\n",
    "θ = initial_params(ann)\n",
    "N = length(θ)\n",
    "function an(t,p)\n",
    "    return ann(t,p)[1]^3\n",
    "end\n",
    "@register an(t,p)\n",
    "@variables t,x(t),xx(t)\n",
    "@parameters p[1:N]\n",
    "D = Differential(t)\n",
    "eqs=[ \n",
    "    D(x)~ xx\n",
    "    D(xx) ~ an(t,p[1:N])\n",
    "]\n",
    "sys = ODESystem(eqs,t,[x,xx],p)\n",
    "u0 =[\n",
    "    x => -4.f0\n",
    "    xx => 0.f0\n",
    "]\n",
    "paras = [p[i]=>θ[i] for i in 1:N]\n",
    "prob = ODEProblem(structural_simplify(sys),u0,tspan,paras)\n",
    "sol = solve(prob)\n"
   ]
  },
  {
   "cell_type": "code",
   "execution_count": null,
   "metadata": {},
   "outputs": [],
   "source": []
  },
  {
   "cell_type": "code",
   "execution_count": null,
   "metadata": {},
   "outputs": [],
   "source": [
    "methods(ann)"
   ]
  },
  {
   "cell_type": "code",
   "execution_count": null,
   "metadata": {},
   "outputs": [],
   "source": [
    "Lux.apply(ann, [10], θ, st)"
   ]
  },
  {
   "cell_type": "code",
   "execution_count": null,
   "metadata": {},
   "outputs": [],
   "source": [
    "methods(Lux.apply)"
   ]
  },
  {
   "cell_type": "code",
   "execution_count": null,
   "metadata": {},
   "outputs": [],
   "source": [
    "\n",
    "\n"
   ]
  },
  {
   "cell_type": "markdown",
   "metadata": {},
   "source": [
    "https://docs.sciml.ai/ModelingToolkit/stable/systems/ODESystem/#ODESystem"
   ]
  },
  {
   "cell_type": "code",
   "execution_count": null,
   "metadata": {},
   "outputs": [],
   "source": []
  }
 ],
 "metadata": {
  "kernelspec": {
   "display_name": "Julia 1.9.3",
   "language": "julia",
   "name": "julia-1.9"
  },
  "language_info": {
   "file_extension": ".jl",
   "mimetype": "application/julia",
   "name": "julia",
   "version": "1.9.3"
  }
 },
 "nbformat": 4,
 "nbformat_minor": 2
}
