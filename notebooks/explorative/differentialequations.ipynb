{
 "cells": [
  {
   "cell_type": "markdown",
   "metadata": {},
   "source": [
    "# Getting started with ODE in Julia\n",
    "\n",
    "Based on: https://docs.sciml.ai/DiffEqDocs/stable/getting_started/ \n",
    "\n",
    "## Solving scalar equations"
   ]
  },
  {
   "cell_type": "code",
   "execution_count": null,
   "metadata": {},
   "outputs": [],
   "source": [
    "using DrWatson \n",
    "@quickactivate \"diff_gleam\"\n",
    "using DifferentialEquations\n",
    "using Plots"
   ]
  },
  {
   "cell_type": "code",
   "execution_count": null,
   "metadata": {},
   "outputs": [],
   "source": [
    "f(u,p,t) = 1.01 * u\n",
    "u0 = 1/2\n",
    "tspan = (0.0, 1.0)\n",
    "prob = ODEProblem(f, u0, tspan)"
   ]
  },
  {
   "cell_type": "markdown",
   "metadata": {},
   "source": [
    "Now not using event handlers, BUT this can become crucial later!"
   ]
  },
  {
   "cell_type": "code",
   "execution_count": null,
   "metadata": {},
   "outputs": [],
   "source": [
    "sol = solve(prob, reltol = 1e-6, saveat = 0.1)"
   ]
  },
  {
   "cell_type": "code",
   "execution_count": null,
   "metadata": {},
   "outputs": [],
   "source": [
    "sol.t"
   ]
  },
  {
   "cell_type": "code",
   "execution_count": null,
   "metadata": {},
   "outputs": [],
   "source": [
    "sol.u"
   ]
  },
  {
   "cell_type": "code",
   "execution_count": null,
   "metadata": {},
   "outputs": [],
   "source": [
    "plot(sol)"
   ]
  },
  {
   "cell_type": "markdown",
   "metadata": {},
   "source": [
    "https://docs.sciml.ai/DiffEqDocs/stable/basics/common_solver_opts/#solver_options Through hints, the right solver can be chosen! e.g. `alg_hints = [:stiff]`. Tsit5() for standard non-stiff. This is the first algorithm to try in most cases."
   ]
  },
  {
   "cell_type": "code",
   "execution_count": null,
   "metadata": {},
   "outputs": [],
   "source": [
    "sol = solve(prob, Tsit5(), reltol = 1e-6, saveat = 0.1)"
   ]
  },
  {
   "cell_type": "code",
   "execution_count": null,
   "metadata": {},
   "outputs": [],
   "source": [
    "sol(0.4343) #INTERPOLATES to the solution!\n",
    "#this interpolation is high order if saveat is NOT used (if saveat is used, it is linear)"
   ]
  },
  {
   "cell_type": "markdown",
   "metadata": {},
   "source": [
    "### Own experiment: what if the differential equation is a matrix"
   ]
  },
  {
   "cell_type": "code",
   "execution_count": null,
   "metadata": {},
   "outputs": [],
   "source": [
    "using Pkg\n",
    "Pkg.rm(\"ProgressLogging\")"
   ]
  },
  {
   "cell_type": "code",
   "execution_count": null,
   "metadata": {},
   "outputs": [],
   "source": [
    "f_matrix(u,p,t) = 1.01 .* u\n",
    "u0_matrix = rand(1000,1000) #went to 10 000 x 10 000\n",
    "matrix_problem = ODEProblem(f_matrix, u0_matrix, tspan)\n",
    "sol_matrix = solve(matrix_problem, DP5(), progress = true)"
   ]
  },
  {
   "cell_type": "code",
   "execution_count": null,
   "metadata": {},
   "outputs": [],
   "source": [
    "Array(sol_matrix)"
   ]
  },
  {
   "cell_type": "code",
   "execution_count": null,
   "metadata": {},
   "outputs": [],
   "source": [
    "non_matrix_problem = ODEProblem(f_matrix, u0_matrix, tspan)\n",
    "sol_matrix = solve(matrix_problem)"
   ]
  },
  {
   "cell_type": "markdown",
   "metadata": {},
   "source": [
    "## 2 Solving systems of equations"
   ]
  },
  {
   "cell_type": "code",
   "execution_count": null,
   "metadata": {},
   "outputs": [],
   "source": [
    "#don't forget that the ! overwrites the du!\n",
    "function lorenz!(du, u, p, t)\n",
    "    du[1] = 10.0*(u[2] - u[1])\n",
    "    du[2] = u[1]*(28.0 - u[3]) - u[2]\n",
    "    du[3] = u[1]*u[2] - (8/3) * u[3]\n",
    "end \n",
    "u0 = [1.0;0.0;0.0]\n",
    "tspan = (0.0, 100.0)\n",
    "prob = ODEProblem(lorenz!, u0, tspan)\n",
    "sol = solve(prob)\n",
    "plot(sol, idxs =(1,2,3))"
   ]
  },
  {
   "cell_type": "markdown",
   "metadata": {},
   "source": [
    "Can be written more genereal!"
   ]
  },
  {
   "cell_type": "code",
   "execution_count": null,
   "metadata": {},
   "outputs": [],
   "source": [
    "function param_lorenz!(du, u, p, t)\n",
    "    du[1] = p[1]*(u[2] - u[1])\n",
    "    du[2] = u[1]*(p[2] - u[3]) - u[2]\n",
    "    du[3] = u[1]*u[2] - (p[3]) * u[3]\n",
    "end \n",
    "u0 = [1.0;0.0;0.0]\n",
    "tspan = (0.0, 100.0)\n",
    "p = [10.0, 28.0, 8/3]\n",
    "prob = ODEProblem(param_lorenz!, u0, tspan,p)\n",
    "sol = solve(prob)\n",
    "plot(sol, idxs =(1,2,3))"
   ]
  },
  {
   "cell_type": "code",
   "execution_count": null,
   "metadata": {},
   "outputs": [],
   "source": [
    "function parameterized_lorenz!(du, u, p, t)\n",
    "    x, y, z = u\n",
    "    σ, ρ, β = p\n",
    "    du[1] = dxdt = σ * (y - x)\n",
    "    du[2] = dydt = x * (ρ - z) - y\n",
    "    du[3] = dzdt = x * y - β * z\n",
    "end\n",
    "#this looks way nicer :)"
   ]
  },
  {
   "cell_type": "markdown",
   "metadata": {},
   "source": [
    "This problem can of course also be solved using the `ModellingToolkit.jl` interface!"
   ]
  },
  {
   "cell_type": "code",
   "execution_count": null,
   "metadata": {},
   "outputs": [],
   "source": [
    "using ModelingToolkit"
   ]
  },
  {
   "cell_type": "code",
   "execution_count": null,
   "metadata": {},
   "outputs": [],
   "source": [
    "\n",
    "function mtk_lorenz(;name)\n",
    "    @variables t, x(t), y(t), z(t)\n",
    "    D = Differential(t)\n",
    "    @parameters σ, ρ, β\n",
    "    eqs = [\n",
    "        D(x) ~ σ*(y-x),\n",
    "        D(y) ~ x*(ρ-z) - y,\n",
    "        D(z) ~ x*y - β*z\n",
    "    ]\n",
    "    return ODESystem(eqs; name)\n",
    "end\n",
    "# mtk_l_test = mtk_lorenz(name = :test)\n",
    "@named mtk_l_test = mtk_lorenz()\n",
    "mtk_l_test = complete(mtk_l_test) #crucial to indicate that model is complete!\n",
    "u0 = [mtk_l_test.x => 1.0, mtk_l_test.y => 0.0, mtk_l_test.z => 0.0]\n",
    "p = [mtk_l_test.σ => 10.0, mtk_l_test.ρ => 28.0, mtk_l_test.β => 8/3]\n",
    "prob = ODEProblem(mtk_l_test, u0, (0.0, 100.0), p)\n",
    "sol = solve(prob)\n",
    "plot(sol, idxs = (1,2,3))"
   ]
  },
  {
   "cell_type": "code",
   "execution_count": null,
   "metadata": {},
   "outputs": [],
   "source": [
    "mtk_l_test"
   ]
  },
  {
   "cell_type": "markdown",
   "metadata": {},
   "source": [
    "So modellingtoolkit the advantage of the nice symbolic representation of your model, but disadvantage of being harder to directly link to the ode solver!"
   ]
  },
  {
   "cell_type": "markdown",
   "metadata": {},
   "source": [
    "## Nonhomogeneous equations with parametrised functions!"
   ]
  },
  {
   "cell_type": "code",
   "execution_count": null,
   "metadata": {},
   "outputs": [],
   "source": [
    "l = 1.0  # lenght [m]\n",
    "m = 1.0  # mass [kg]\n",
    "g = 9.81 # gravitational acceleration [m/s^2]\n",
    "\n",
    "function pendulum!(du, u, p, t) #so changes du with the !\n",
    "    θ, ω = u\n",
    "    M(t) = p(t)\n",
    "    du[1] = dθdt = ω\n",
    "    du[2] = dωdt = -3g /(2l) * sin(θ) + 3/(m*l^2)*M(t)\n",
    "end\n",
    "M = t -> 0.1sin(t) #anonymous function\n",
    "θ₀ = 0.01                           # initial angular deflection [rad]\n",
    "ω₀ = 0.0                            # initial angular velocity [rad/s]\n",
    "u₀ = [θ₀, ω₀]                       # initial state vector\n",
    "tspan = (0.0, 10.0)                 # time interval\n",
    "\n",
    "prob = ODEProblem(pendulum!, u₀, tspan, M)\n",
    "sol = solve(prob)\n",
    "plot(sol, layout = (2,1), label = [\"θ [rad]\" \"ω [rad/s]\"])"
   ]
  },
  {
   "cell_type": "markdown",
   "metadata": {},
   "source": [
    "**Note also that, in contrast with the time-varying parameter, the (vector of) state variables u, which is generally also time-varying, is always used without the explicit dependence on time (t).**"
   ]
  },
  {
   "cell_type": "markdown",
   "metadata": {},
   "source": []
  },
  {
   "cell_type": "code",
   "execution_count": null,
   "metadata": {},
   "outputs": [],
   "source": [
    "prob"
   ]
  },
  {
   "cell_type": "code",
   "execution_count": null,
   "metadata": {},
   "outputs": [],
   "source": []
  }
 ],
 "metadata": {
  "kernelspec": {
   "display_name": "Julia 1.9.3",
   "language": "julia",
   "name": "julia-1.9"
  },
  "language_info": {
   "file_extension": ".jl",
   "mimetype": "application/julia",
   "name": "julia",
   "version": "1.9.3"
  }
 },
 "nbformat": 4,
 "nbformat_minor": 4
}
