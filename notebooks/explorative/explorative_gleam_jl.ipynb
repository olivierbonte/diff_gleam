{
 "cells": [
  {
   "cell_type": "markdown",
   "metadata": {},
   "source": [
    "## Explore Gleam.jl "
   ]
  },
  {
   "cell_type": "code",
   "execution_count": null,
   "metadata": {},
   "outputs": [],
   "source": [
    "using DrWatson \n",
    "@quickactivate \"diff_gleam\"\n",
    "using Plots\n",
    "# using Gleam  #First option, import all of Gleam\n",
    "import Gleam.physics: calculate_λ, calculate_γ\n",
    "import Gleam.physics: calculate_Δ, calculate_priestley_taylor"
   ]
  },
  {
   "cell_type": "code",
   "execution_count": null,
   "metadata": {},
   "outputs": [],
   "source": [
    "# Gleam.physics.calculate_lambda(3.0) #when using the first option!\n",
    "calculate_λ(3.0)"
   ]
  },
  {
   "cell_type": "markdown",
   "metadata": {},
   "source": [
    "Mini-test on float values "
   ]
  },
  {
   "cell_type": "code",
   "execution_count": null,
   "metadata": {},
   "outputs": [],
   "source": [
    "Tc = 20.0 #°C\n",
    "α = 1.26 #classic low vegetation values\n",
    "AE = 200. #W/m^2\n",
    "λ = calculate_λ(Tc)\n",
    "γ = calculate_γ(λ)\n",
    "Δ = calculate_Δ(Tc)\n",
    "Ep = calculate_priestley_taylor(AE, Δ, γ, α)"
   ]
  },
  {
   "cell_type": "markdown",
   "metadata": {},
   "source": [
    "Mini-test on 1D array"
   ]
  },
  {
   "cell_type": "code",
   "execution_count": null,
   "metadata": {},
   "outputs": [],
   "source": [
    "incoming_AE = [150.0, 125.0, 100.0, 75.0, 75.0, 100.0, 125.0, 150.0, 175.0, \n",
    "200.0, 225.0, 250.0, 275.0, 300.0, 325.0, 350.0, 375.0, 400.0, 425.0, 450.0, 475.0]\n",
    "air_temperature = [20.5, 19.0, 17.8, 16.5, 16.5, 17.8, 19.0, 20.5,\n",
    " 22.0, 23.5, 25.0, 26.5, 28.0, 29.5, 31.0, 32.5, 34.0, 35.5, 37.0, 38.5, 40.0]\n",
    "\n",
    "λ = calculate_λ.(air_temperature)\n",
    "γ = calculate_γ.(λ)\n",
    "Δ = calculate_Δ.(air_temperature)\n",
    "Ep = calculate_priestley_taylor.(incoming_AE, Δ, γ, α)\n",
    "plot(Ep, label = \"λEₚ [W/m²]\")"
   ]
  },
  {
   "cell_type": "markdown",
   "metadata": {},
   "source": [
    "Now try for a 2D array "
   ]
  },
  {
   "cell_type": "code",
   "execution_count": null,
   "metadata": {},
   "outputs": [],
   "source": [
    "# Synthetic data for net incoming radiation (W/m^2)\n",
    "incoming_AE = [\n",
    "    150.2  145.5  140.3  135.7  130.8;\n",
    "    125.6  120.0  115.2  110.9  105.3;\n",
    "    100.8  95.6   90.4   85.1   80.5;\n",
    "    75.7   70.2   65.4   60.9   55.3;\n",
    "    50.1   45.5   40.3   35.7   30.9\n",
    "]\n",
    "\n",
    "# Synthetic data for air temperature (°C)\n",
    "air_temperature = [\n",
    "    20.6  19.8  18.7  17.9  16.8;\n",
    "    22.3  21.5  20.4  19.6  18.5;\n",
    "    24.1  23.3  22.2  21.4  20.3;\n",
    "    25.7  24.9  23.8  23.0  21.9;\n",
    "    27.4  26.6  25.5  24.7  23.6\n",
    "]\n",
    "λ = calculate_λ.(air_temperature)\n",
    "γ = calculate_γ.(λ)\n",
    "Δ = calculate_Δ.(air_temperature)\n",
    "Ep = calculate_priestley_taylor.(incoming_AE, Δ, γ, α)\n",
    "heatmap(Ep, title = \"λEₚ [W/m²]\")"
   ]
  },
  {
   "cell_type": "code",
   "execution_count": null,
   "metadata": {},
   "outputs": [],
   "source": []
  }
 ],
 "metadata": {
  "kernelspec": {
   "display_name": "Julia 1.9.3",
   "language": "julia",
   "name": "julia-1.9"
  },
  "language_info": {
   "file_extension": ".jl",
   "mimetype": "application/julia",
   "name": "julia",
   "version": "1.9.3"
  }
 },
 "nbformat": 4,
 "nbformat_minor": 2
}
