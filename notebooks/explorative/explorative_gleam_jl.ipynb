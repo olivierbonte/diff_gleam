{
 "cells": [
  {
   "cell_type": "markdown",
   "metadata": {},
   "source": [
    "## Explore Gleam.jl "
   ]
  },
  {
   "cell_type": "code",
   "execution_count": null,
   "metadata": {},
   "outputs": [],
   "source": [
    "using DrWatson \n",
    "@quickactivate \"diff_gleam\"\n",
    "using Plots\n",
    "using ModelingToolkit\n",
    "using DifferentialEquations\n",
    "using DataInterpolations\n",
    "using DataFrames\n",
    "# using Gleam  #First option, import all of Gleam\n",
    "import Gleam.physics: calculate_λ, calculate_γ, evaporation_to_mm_per_day\n",
    "import Gleam.physics: calculate_Δ, calculate_priestley_taylor"
   ]
  },
  {
   "cell_type": "code",
   "execution_count": null,
   "metadata": {},
   "outputs": [],
   "source": [
    "# Gleam.physics.calculate_lambda(3.0) #when using the first option!\n",
    "calculate_λ(3.0)"
   ]
  },
  {
   "cell_type": "markdown",
   "metadata": {},
   "source": [
    "Mini-test on float values "
   ]
  },
  {
   "cell_type": "code",
   "execution_count": null,
   "metadata": {},
   "outputs": [],
   "source": [
    "Tc = 20.0 #°C\n",
    "α = 1.26 #classic low vegetation values\n",
    "AE = 200. #W/m^2\n",
    "λ = calculate_λ(Tc)\n",
    "γ = calculate_γ(λ)\n",
    "Δ = calculate_Δ(Tc)\n",
    "Ep = calculate_priestley_taylor(AE, Δ, γ, α)"
   ]
  },
  {
   "cell_type": "markdown",
   "metadata": {},
   "source": [
    "Mini-test on 1D array"
   ]
  },
  {
   "cell_type": "code",
   "execution_count": null,
   "metadata": {},
   "outputs": [],
   "source": [
    "incoming_AE = [150.0, 125.0, 100.0, 75.0, 75.0, 100.0, 125.0, 150.0, 175.0, \n",
    "200.0, 225.0, 250.0, 275.0, 300.0, 325.0, 350.0, 375.0, 400.0, 425.0, 450.0, 475.0]\n",
    "air_temperature = [20.5, 19.0, 17.8, 16.5, 16.5, 17.8, 19.0, 20.5,\n",
    " 22.0, 23.5, 25.0, 26.5, 28.0, 29.5, 31.0, 32.5, 34.0, 35.5, 37.0, 38.5, 40.0]\n",
    "\n",
    "λ = calculate_λ.(air_temperature)\n",
    "γ = calculate_γ.(λ)\n",
    "Δ = calculate_Δ.(air_temperature)\n",
    "Ep = calculate_priestley_taylor.(incoming_AE, Δ, γ, α)\n",
    "plot(Ep, label = \"λEₚ [W/m²]\")"
   ]
  },
  {
   "cell_type": "markdown",
   "metadata": {},
   "source": [
    "Now try for a 2D array "
   ]
  },
  {
   "cell_type": "code",
   "execution_count": null,
   "metadata": {},
   "outputs": [],
   "source": [
    "# Synthetic data for net incoming radiation (W/m^2)\n",
    "incoming_AE = [\n",
    "    150.2  145.5  140.3  135.7  130.8;\n",
    "    125.6  120.0  115.2  110.9  105.3;\n",
    "    100.8  95.6   90.4   85.1   80.5;\n",
    "    75.7   70.2   65.4   60.9   55.3;\n",
    "    50.1   45.5   40.3   35.7   30.9\n",
    "]\n",
    "\n",
    "# Synthetic data for air temperature (°C)\n",
    "air_temperature = [\n",
    "    20.6  19.8  18.7  17.9  16.8;\n",
    "    22.3  21.5  20.4  19.6  18.5;\n",
    "    24.1  23.3  22.2  21.4  20.3;\n",
    "    25.7  24.9  23.8  23.0  21.9;\n",
    "    27.4  26.6  25.5  24.7  23.6\n",
    "]\n",
    "λ = calculate_λ.(air_temperature)\n",
    "γ = calculate_γ.(λ)\n",
    "Δ = calculate_Δ.(air_temperature)\n",
    "Ep = calculate_priestley_taylor.(incoming_AE, Δ, γ, α)\n",
    "heatmap(Ep, title = \"λEₚ [W/m²]\")"
   ]
  },
  {
   "cell_type": "markdown",
   "metadata": {},
   "source": [
    "## First attempt at a interception module\n",
    "\n",
    "Try to create with the `ModellingToolkit.jl` framework"
   ]
  },
  {
   "cell_type": "code",
   "execution_count": null,
   "metadata": {},
   "outputs": [],
   "source": [
    "# Time vector (hourly measurements)\n",
    "time_days = collect(0:9)/24  # 0 to 9 hours\n",
    "\n",
    "# Synthetic data for leaf area index (LAI)\n",
    "lai = [2.5, 2.8, 3.1, 3.4, 3.7, 4.0, 4.3, 4.3, 4.3, 4.3]\n",
    "\n",
    "# Synthetic data for precipitation intensity (mm/day)\n",
    "precipitation_intensity = [6.2, 7.5, 5.8, 8.2, 6.5, 7.8, 5.5, 8.9, 7.2, 0.0];"
   ]
  },
  {
   "cell_type": "markdown",
   "metadata": {},
   "source": [
    "Prepare following discrete values for use with differential equation solver, https://discourse.julialang.org/t/interpolation-within-modelingtoolkit-framework/59432/6"
   ]
  },
  {
   "cell_type": "code",
   "execution_count": null,
   "metadata": {},
   "outputs": [],
   "source": [
    "methods(LinearInterpolation)"
   ]
  },
  {
   "cell_type": "code",
   "execution_count": null,
   "metadata": {},
   "outputs": [],
   "source": [
    "# function lai_interpolate(t, t_vals, lai_vals)\n",
    "#     interp_lai = LinearInterpolation(lai_vals, t_vals)\n",
    "#     output = interp_lai(t)\n",
    "# end\n",
    "interp_lai = LinearInterpolation(lai, time_days, extrapolate = true)\n",
    "interp_p = ConstantInterpolation(precipitation_intensity, time_days, dir = :right, extrapolate = true)#rigth piecewise\n",
    "t_plot = collect(0:0.01:20)/24\n",
    "plot(t_plot, interp_lai(t_plot), label = \"LAI [-]\", xlabel = \"t[days]\", color = :green)\n",
    "scatter!(time_days, lai, label = \"LAI [-]\", xlabel = \"t[days]\", color = :green)\n",
    "plot!(t_plot, interp_p(t_plot), label = \"P [mm/day]\", color = :blue)\n",
    "scatter!(time_days, precipitation_intensity, label = \"P [mm/day]\", color = :blue)"
   ]
  },
  {
   "cell_type": "code",
   "execution_count": null,
   "metadata": {},
   "outputs": [],
   "source": [
    "plot_folder = projectdir(\"plots\",\"Interception_experiment\")\n",
    "folder_function = plot_name -> projectdir(\"plots\",\"Interception_experiment\",plot_name)\n",
    "if !isdir(plot_folder)\n",
    "    mkdir(plot_folder)\n",
    "end\n",
    "savefig(folder_function(\"forcings.png\"))"
   ]
  },
  {
   "cell_type": "code",
   "execution_count": null,
   "metadata": {},
   "outputs": [],
   "source": [
    "# function intercpetion_model()\n",
    "# #place mtk model here later\n",
    "# end\n",
    "\n",
    "function mtk_interception(Ep_use = false;name)\n",
    "    @parameters q, b, Sₜ, Sₗ, Ec\n",
    "    @variables t, Cᵥ(t), P(t), LAI(t), Sᵥ(t), D(t), d(t), I(t)\n",
    "    δ = Differential(t)\n",
    "\n",
    "    eqs = [\n",
    "        P ~ interp_p(t)\n",
    "        LAI ~ interp_lai(t)\n",
    "        Sᵥ ~ Sₜ + LAI* Sₗ\n",
    "        D ~ ifelse(Cᵥ > Sᵥ, b*(Cᵥ - Sᵥ),0.0)\n",
    "        d ~ ifelse(Cᵥ > Sᵥ, 0.0, q*Cᵥ)\n",
    "        I ~ ifelse(Ep_use,\n",
    "                ifelse(Cᵥ > 0, Ec*Cᵥ/Sᵥ, 0),\n",
    "                ifelse(Cᵥ > 0, Ec*Cᵥ/Sᵥ, 0),\n",
    "            )\n",
    "        δ(Cᵥ) ~ P - I - D - d\n",
    "    ]\n",
    "    return ODESystem(eqs; name)\n",
    "end\n",
    "@named test = mtk_interception()"
   ]
  },
  {
   "cell_type": "code",
   "execution_count": null,
   "metadata": {},
   "outputs": [],
   "source": [
    "test_simp = complete(structural_simplify(test))"
   ]
  },
  {
   "cell_type": "code",
   "execution_count": null,
   "metadata": {},
   "outputs": [],
   "source": [
    "u0 = [test_simp.Cᵥ => 0.0]\n",
    "t_span = (0.0, 20.0/24)\n",
    "p = [\n",
    "    test_simp.q => 2.4, #d^-1 = 0.3h^-1\n",
    "    test_simp.b => 500, #d^-1\n",
    "    test_simp.Ec => 0.32*24, #mm/d\n",
    "    test_simp.Sₜ => 0.09, #mm\n",
    "    test_simp.Sₗ => 0.294, #mm\n",
    "]\n",
    "prob = ODEProblem(test_simp, u0, t_span, p)\n",
    "sol = solve(prob) #Tsit5(), saveat = collect(0:20)/24)#, Tsit5(), reltol = 1e-8, abstol = 1e-8)\n",
    "plot(sol, idxs =[test_simp.Cᵥ, test_simp.Sᵥ],  xlabel = \"t[days]\", ylabel = \"[mm]\")\n",
    "#add the discret points\n",
    "p1 = scatter!(sol.t,sol[test_simp.Cᵥ], label = \"Cᵥ(t)\", color = :blue)"
   ]
  },
  {
   "cell_type": "code",
   "execution_count": null,
   "metadata": {},
   "outputs": [],
   "source": [
    "sol.t"
   ]
  },
  {
   "cell_type": "code",
   "execution_count": null,
   "metadata": {},
   "outputs": [],
   "source": [
    "sol.u"
   ]
  },
  {
   "cell_type": "code",
   "execution_count": null,
   "metadata": {},
   "outputs": [],
   "source": [
    "p2 = plot(sol, idxs = [test_simp.d, test_simp.D, test_simp.I], ylabel = \"[mm/d]\", xlabel = \"t[days]\", show =true)\n",
    "scatter!(sol.t, sol[test_simp.d], ylabel = \"[mm/d]\", label = \"d(t)\", color = :blue)\n",
    "scatter!(sol.t, sol[test_simp.D], label = \"D(t)\", color = :red)\n",
    "scatter!(sol.t, sol[test_simp.I], label = \"I(t)\", color = :green)"
   ]
  },
  {
   "cell_type": "code",
   "execution_count": null,
   "metadata": {},
   "outputs": [],
   "source": [
    "p_all = plot(p1,p2, size = (800,500))\n",
    "savefig(folder_function(\"ouptut.png\"))\n",
    "p_all"
   ]
  },
  {
   "cell_type": "markdown",
   "metadata": {},
   "source": [
    "### Test using Ep instead of Ec"
   ]
  },
  {
   "cell_type": "code",
   "execution_count": null,
   "metadata": {},
   "outputs": [],
   "source": [
    "incoming_AE = [150.0, 125.0, 100.0, 75.0, 75.0, 100.0, 125.0, 150.0, 175.0, \n",
    "200.0]\n",
    "air_temperature = [20.5, 19.0, 17.8, 16.5, 16.5, 17.8, 19.0, 20.5,\n",
    " 22.0, 23.5]\n",
    "interp_ae = LinearInterpolation(incoming_AE, time_days, extrapolate = true)\n",
    "interp_ta = LinearInterpolation(air_temperature, time_days, extrapolate = true);"
   ]
  },
  {
   "cell_type": "markdown",
   "metadata": {},
   "source": [
    "ALWAYS register your functions to be symbolic OUTSIDE of functions (see here: https://discourse.julialang.org/t/how-can-i-use-register-symbolic-inside-of-a-function/101734/5) or use `(eval(:(@register_symbolic ...)))`"
   ]
  },
  {
   "cell_type": "code",
   "execution_count": null,
   "metadata": {},
   "outputs": [],
   "source": [
    "@variables t, Tₐ(t), λ(t), AE(t), Δ(t), γ(t), α(t), Ep_wm2(t)\n",
    "@register_symbolic calculate_Δ(Tₐ)\n",
    "@register_symbolic calculate_λ(Tₐ)\n",
    "@register_symbolic calculate_γ(λ)\n",
    "@register_symbolic calculate_priestley_taylor(AE, Δ, γ, α)\n",
    "@register_symbolic evaporation_to_mm_per_day(Ep_wm2, λ)"
   ]
  },
  {
   "cell_type": "code",
   "execution_count": null,
   "metadata": {},
   "outputs": [],
   "source": [
    "methods(calculate_Δ)"
   ]
  },
  {
   "cell_type": "code",
   "execution_count": null,
   "metadata": {},
   "outputs": [],
   "source": [
    "function mtk_interception_Ep(;name)\n",
    "    @parameters q, b, Sₜ, Sₗ, α\n",
    "    @variables begin \n",
    "        t, Cᵥ(t), P(t), AE(t), Tₐ(t), LAI(t),\n",
    "        Ep(t), Sᵥ(t), D(t), d(t), I(t), Δ(t),\n",
    "        γ(t),λ(t)\n",
    "    end\n",
    "    δ = Differential(t)\n",
    "\n",
    "    eqs = [\n",
    "        P ~ interp_p(t)\n",
    "        AE ~ interp_ae(t)\n",
    "        Tₐ ~ interp_ta(t)\n",
    "        LAI ~ interp_lai(t)\n",
    "        Δ ~ calculate_Δ(Tₐ)\n",
    "        λ ~ calculate_λ(Tₐ)\n",
    "        γ ~ calculate_γ(λ)\n",
    "        Ep_wm2 ~ calculate_priestley_taylor(AE, Δ, γ, α)\n",
    "        Ep ~ evaporation_to_mm_per_day(Ep_wm2, λ)\n",
    "        Sᵥ ~ Sₜ + LAI* Sₗ\n",
    "        D ~ ifelse(Cᵥ > Sᵥ, b*(Cᵥ - Sᵥ),0.0)\n",
    "        d ~ ifelse(Cᵥ > Sᵥ, 0.0, q*Cᵥ)\n",
    "        I ~ ifelse(Cᵥ > 0, Ep*Cᵥ/Sᵥ, 0)   \n",
    "        δ(Cᵥ) ~ P - I - D - d\n",
    "    ]\n",
    "    return ODESystem(eqs; name)\n",
    "end\n",
    "@named test_ep = mtk_interception_Ep()"
   ]
  },
  {
   "cell_type": "code",
   "execution_count": null,
   "metadata": {},
   "outputs": [],
   "source": [
    "test_ep_simp = complete(structural_simplify(test_ep))"
   ]
  },
  {
   "cell_type": "code",
   "execution_count": null,
   "metadata": {},
   "outputs": [],
   "source": [
    "u0 = [test_ep_simp.Cᵥ => 0.0]\n",
    "p = [\n",
    "    test_ep_simp.q => 2.4, #d^-1 = 0.3h^-1\n",
    "    test_ep_simp.b => 500, #d^-1\n",
    "    test_ep_simp.Sₜ => 0.09, #mm\n",
    "    test_ep_simp.Sₗ => 0.294, #mm\n",
    "    test_ep_simp.α => 1.26 #[-]\n",
    "]\n",
    "\n",
    "prob_ep = ODEProblem(test_ep_simp, u0, t_span, p)\n",
    "sol_ep = solve(prob_ep) #Tsit5(), saveat = collect(0:20)/24)#, Tsit5(), reltol = 1e-8, abstol = 1e-8)\n",
    "plot(sol_ep, idxs =[test_ep_simp.Cᵥ, test_ep_simp.Sᵥ],  xlabel = \"t[days]\", ylabel = \"[mm]\")\n",
    "#add the discret points\n",
    "p1 = scatter!(sol_ep.t,sol_ep[test_simp.Cᵥ], label = \"Cᵥ(t)\", color = :blue)"
   ]
  },
  {
   "cell_type": "code",
   "execution_count": null,
   "metadata": {},
   "outputs": [],
   "source": [
    "plot(sol_ep, idxs = [test_ep_simp.Ep, test_ep_simp.I, test_ep_simp.d, test_ep_simp.D],\n",
    " ylabel = \"[mm/day]\", xlabel = \"t[days]\")"
   ]
  },
  {
   "cell_type": "code",
   "execution_count": null,
   "metadata": {},
   "outputs": [],
   "source": [
    "plot(sol_ep, idxs = [test_ep_simp.P, test_ep_simp.LAI],\n",
    " ylabel = \"[mm/day]\", xlabel = \"t[days]\")"
   ]
  },
  {
   "cell_type": "markdown",
   "metadata": {},
   "source": [
    "### Ep without the modellingtoolkit framework"
   ]
  },
  {
   "cell_type": "code",
   "execution_count": null,
   "metadata": {},
   "outputs": [],
   "source": [
    "d_vector = []\n",
    "function rutter_ep!(u, p, t)\n",
    "    Cᵥ = u\n",
    "    q, b, Sₜ, Sₗ, α, P, AE, Tₐ, LAI = p\n",
    "    Δ, λ = calculate_Δ(Tₐ(t)), calculate_λ(Tₐ(t))\n",
    "    γ = calculate_γ(λ)\n",
    "    Ep = evaporation_to_mm_per_day(\n",
    "        calculate_priestley_taylor(AE(t), Δ, γ, α), λ\n",
    "    )\n",
    "    Sᵥ = Sₜ + LAI(t)*Sₗ\n",
    "    D = ifelse(Cᵥ > Sᵥ, b*(Cᵥ - Sᵥ), 0.0)\n",
    "    d = ifelse(Cᵥ > Sᵥ, 0.0, q*Cᵥ)\n",
    "    push!(d_vector, d)\n",
    "    I = ifelse(Cᵥ > 0.0, Ep*Cᵥ/Sᵥ, 0.0)\n",
    "    dCᵥ =  P(t) - I - D - d \n",
    "    return dCᵥ\n",
    "end\n",
    "# f(u,p,t) form instead of f(du, u, p, t) form used here"
   ]
  },
  {
   "cell_type": "code",
   "execution_count": null,
   "metadata": {},
   "outputs": [],
   "source": [
    "u₀ = 0.0\n",
    "p = (\n",
    "    2.4, #q: d^-1\n",
    "    500.0, #b: d^-1\n",
    "    0.09, #S_t: mm\n",
    "    0.294, #S_l: mm\n",
    "    1.25, #alpha: -\n",
    "    t -> interp_p(t), #precipitation\n",
    "    t -> interp_ae(t), #Available energy\n",
    "    t -> interp_ta(t), #air temperature\n",
    "    t -> interp_lai(t) #LAI\n",
    ")\n",
    "prob_diff_eq = ODEProblem(rutter_ep!, u₀, t_span, p)\n",
    "sol_diff_eq = solve(prob_diff_eq)\n",
    "plot(sol_diff_eq, label = \"Cᵥ(t)\")"
   ]
  },
  {
   "cell_type": "code",
   "execution_count": null,
   "metadata": {},
   "outputs": [],
   "source": [
    "# modelingtoolkitize(prob_diff_eq) #does not work"
   ]
  },
  {
   "cell_type": "code",
   "execution_count": null,
   "metadata": {},
   "outputs": [],
   "source": [
    "solve(prob_diff_eq)"
   ]
  },
  {
   "cell_type": "markdown",
   "metadata": {},
   "source": [
    "DISADVANTAGE of this approach: you cannot easily access the fluxes "
   ]
  },
  {
   "cell_type": "code",
   "execution_count": null,
   "metadata": {},
   "outputs": [],
   "source": [
    "using NBInclude\n",
    "nbexport(\"explorative_gleam_jl.jl\", \"explorative_gleam_jl.ipynb\")"
   ]
  },
  {
   "cell_type": "code",
   "execution_count": null,
   "metadata": {},
   "outputs": [],
   "source": [
    "plot(d_vector)"
   ]
  },
  {
   "cell_type": "markdown",
   "metadata": {},
   "source": [
    "End conclusion: modellingtoolkit framework handy, as it allows to easily track all the the fluxes. Deemded more important than the disadvantage of translating the functions to symbolic. BUT still a problem that it might be less easy to integrate with DiffEqFlux.jl: "
   ]
  },
  {
   "cell_type": "markdown",
   "metadata": {},
   "source": [
    "### An all-encompassing function"
   ]
  },
  {
   "cell_type": "code",
   "execution_count": null,
   "metadata": {},
   "outputs": [],
   "source": [
    "forcings = Dict(\n",
    "    \"AE\" => DataFrame(time = time_days, AE = incoming_AE),\n",
    "    \"Tₐ\" => DataFrame(time =time_days, Tₐ = air_temperature),\n",
    "    \"LAI\" => DataFrame(time = time_days, LAI = lai),\n",
    "    \"P\" => DataFrame(time = time_days, P = precipitation_intensity)\n",
    ")\n",
    "\n",
    "#Idea: have a dictionary of dataframes as input\n",
    "#Each dataframe can have different time resolutions, BUT this does not matter\n",
    "#since we will interpolate each seperately \n",
    "function interpolate_forcings(forcings::Dict)\n",
    "    forcings_vars = keys(forcings)\n",
    "    interpol_dict = Dict()\n",
    "    for var in forcings_vars\n",
    "        if var == \"P\"\n",
    "            interpol_dict[var] = ConstantInterpolation(\n",
    "                forcings[var][!,var],forcings[var][!,\"time\"]\n",
    "            )\n",
    "        else\n",
    "            interpol_dict[var] = LinearInterpolation(\n",
    "                forcings[var][!,var],forcings[var][!,\"time\"]\n",
    "            )\n",
    "        end\n",
    "    end\n",
    "    return interpol_dict\n",
    "end\n",
    "\n",
    "function Interception(forcings::Dict, t_span::Tuple)\n",
    "    forcings_ip = interpolate_forcings(forcings)\n",
    "    @variables begin \n",
    "        t, Cᵥ(t), P(t), AE(t), Tₐ(t), LAI(t),\n",
    "        Ep(t), Sᵥ(t), D(t), d(t), I(t), Δ(t),\n",
    "        γ(t),λ(t)\n",
    "    end\n",
    "    eval(:(@register_symbolic calculate_Δ(Tₐ)))\n",
    "    eval(:(@register_symbolic calculate_λ(Tₐ)))\n",
    "    eval(:(@register_symbolic calculate_γ(λ)))\n",
    "    eval(:(@register_symbolic calculate_priestley_taylor(AE, Δ, γ, α)))\n",
    "    eval(:(@register_symbolic evaporation_to_mm_per_day(Ep_wm2, λ)))\n",
    "\n",
    "    function mtk_intercep(;name)\n",
    "        @parameters q, b, Sₜ, Sₗ, α\n",
    "        δ = Differential(t)\n",
    "        eqs = [\n",
    "            P ~ interp_p(t)\n",
    "            AE ~ interp_ae(t)\n",
    "            Tₐ ~ interp_ta(t)\n",
    "            LAI ~ interp_lai(t)\n",
    "            Δ ~ calculate_Δ(Tₐ)\n",
    "            λ ~ calculate_λ(Tₐ)\n",
    "            γ ~ calculate_γ(λ)\n",
    "            Ep_wm2 ~ calculate_priestley_taylor(AE, Δ, γ, α)\n",
    "            Ep ~ evaporation_to_mm_per_day(Ep_wm2, λ)\n",
    "            Sᵥ ~ Sₜ + LAI* Sₗ\n",
    "            D ~ ifelse(Cᵥ > Sᵥ, b*(Cᵥ - Sᵥ),0.0)\n",
    "            d ~ ifelse(Cᵥ > Sᵥ, 0.0, q*Cᵥ)\n",
    "            I ~ ifelse(Cᵥ > 0, Ep*Cᵥ/Sᵥ, 0)   \n",
    "            δ(Cᵥ) ~ P - I - D - d\n",
    "        ]\n",
    "        return ODESystem(eqs; name)\n",
    "    end\n",
    "    @named intercep_full = mtk_intercep()\n",
    "    intercep = complete(structural_simplify(intercep_full))\n",
    "    u0 = [test_ep_simp.Cᵥ => 0.0]\n",
    "    p = [\n",
    "        intercep.q => 2.4, #d^-1 = 0.3h^-1\n",
    "        intercep.b => 500, #d^-1\n",
    "        intercep.Sₜ => 0.09, #mm\n",
    "        intercep.Sₗ => 0.294, #mm\n",
    "        intercep.α => 1.26 #[-]\n",
    "    ]\n",
    "    prob_ep = ODEProblem(test_ep_simp, u0, t_span, p)\n",
    "    solution = solve(prob_ep)\n",
    "    return solution, intercep_full\n",
    "end\n",
    "\n",
    "#NOTE: in the long run, all variable parameters should come from \n",
    "#the config file!! "
   ]
  },
  {
   "cell_type": "code",
   "execution_count": null,
   "metadata": {},
   "outputs": [],
   "source": [
    "solution, test = Interception(forcings, (0.0, 20.0/24))"
   ]
  },
  {
   "cell_type": "code",
   "execution_count": null,
   "metadata": {},
   "outputs": [],
   "source": [
    "plot(solution)"
   ]
  }
 ],
 "metadata": {
  "kernelspec": {
   "display_name": "Julia 1.9.3",
   "language": "julia",
   "name": "julia-1.9"
  },
  "language_info": {
   "file_extension": ".jl",
   "mimetype": "application/julia",
   "name": "julia",
   "version": "1.9.3"
  }
 },
 "nbformat": 4,
 "nbformat_minor": 2
}
