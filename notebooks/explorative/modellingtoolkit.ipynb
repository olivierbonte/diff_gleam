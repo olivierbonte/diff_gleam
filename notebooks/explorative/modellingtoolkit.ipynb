{
 "cells": [
  {
   "cell_type": "code",
   "execution_count": null,
   "metadata": {},
   "outputs": [],
   "source": [
    "using DrWatson \n",
    "@quickactivate \"diff_gleam\""
   ]
  },
  {
   "cell_type": "markdown",
   "metadata": {},
   "source": [
    "Installing ModelingToolkit (was only needed once)"
   ]
  },
  {
   "cell_type": "code",
   "execution_count": null,
   "metadata": {},
   "outputs": [],
   "source": [
    "# using Pkg\n",
    "# Pkg.add(\"ModelingToolkit\")\n",
    "# Pkg.add(\"DifferentialEquations\")\n",
    "# Pkg.add(\"Plots\")"
   ]
  },
  {
   "cell_type": "markdown",
   "metadata": {},
   "source": [
    "## First simple ODE\n",
    "$$\n",
    "\\frac{dx}{dt} = \\dot x  = \\frac{f(t) - x(t)}{\\tau}\n",
    "$$\n",
    "Start with $f(t) = 1$\n",
    "\n",
    "Introduction from https://docs.sciml.ai/ModelingToolkit/stable/tutorials/ode_modeling/ "
   ]
  },
  {
   "cell_type": "code",
   "execution_count": null,
   "metadata": {},
   "outputs": [],
   "source": [
    "using ModelingToolkit\n",
    "\n",
    "@variables t\n",
    "D = Differential(t) #differential operator so ../dt\n",
    "\n",
    "@mtkmodel FOL begin\n",
    "    @parameters begin\n",
    "        τ #parameters\n",
    "    end\n",
    "    @variables begin\n",
    "        x(t) #state variables\n",
    "    end\n",
    "    @equations begin\n",
    "        D(x) ~ (1 - x) /τ #not x(t)\n",
    "        #tilde anlog to = here\n",
    "    end\n",
    "end\n",
    "\n",
    "@mtkbuild fol = FOL()"
   ]
  },
  {
   "cell_type": "code",
   "execution_count": null,
   "metadata": {},
   "outputs": [],
   "source": [
    "typeof(fol)"
   ]
  },
  {
   "cell_type": "code",
   "execution_count": null,
   "metadata": {},
   "outputs": [],
   "source": [
    "a = 1\n",
    "typeof(a => 3) #way to define a pair!"
   ]
  },
  {
   "cell_type": "code",
   "execution_count": null,
   "metadata": {},
   "outputs": [],
   "source": [
    "using DifferentialEquations\n",
    "using Plots \n",
    "\n",
    "prob = ODEProblem(\n",
    "    fol, #f = ODE function\n",
    "    [fol.x => 0.0], #the initial conditions\n",
    "    (0,10), #tspan\n",
    "    [fol.τ => 3.0], #parameters\n",
    ")\n",
    "plot(solve(prob))"
   ]
  },
  {
   "cell_type": "markdown",
   "metadata": {},
   "source": [
    "## Algebraic relations and structural simplification"
   ]
  },
  {
   "cell_type": "code",
   "execution_count": null,
   "metadata": {},
   "outputs": [],
   "source": [
    "@mtkmodel FOL begin\n",
    "    @parameters begin\n",
    "        τ\n",
    "    end\n",
    "    @variables begin\n",
    "        x(t)\n",
    "        RHS(t)\n",
    "    end\n",
    "    begin\n",
    "        D = Differential(t)\n",
    "    end\n",
    "    @equations begin\n",
    "        RHS ~ (1 - x)/τ\n",
    "        D(x) ~ RHS\n",
    "    end\n",
    "end\n",
    "\n",
    "@mtkbuild fol = FOL()"
   ]
  },
  {
   "cell_type": "code",
   "execution_count": null,
   "metadata": {},
   "outputs": [],
   "source": [
    "equations(fol)"
   ]
  },
  {
   "cell_type": "code",
   "execution_count": null,
   "metadata": {},
   "outputs": [],
   "source": [
    "fol.RHS"
   ]
  },
  {
   "cell_type": "markdown",
   "metadata": {},
   "source": [
    "more info on observed see: https://docs.sciml.ai/ModelingToolkit/stable/internals/#Observables-and-Variable-Elimination"
   ]
  },
  {
   "cell_type": "code",
   "execution_count": null,
   "metadata": {},
   "outputs": [],
   "source": [
    "observed(fol)"
   ]
  },
  {
   "cell_type": "markdown",
   "metadata": {},
   "source": [
    "You can plot this righthandside! HANDY (think of e.g. plotting Evaporation)"
   ]
  },
  {
   "cell_type": "code",
   "execution_count": null,
   "metadata": {},
   "outputs": [],
   "source": [
    "prob = ODEProblem(fol,\n",
    "    [fol.x => 0.0],\n",
    "    (0.0,10),\n",
    "    [fol.τ => 3.0])\n",
    "sol = solve(prob)"
   ]
  },
  {
   "cell_type": "code",
   "execution_count": null,
   "metadata": {},
   "outputs": [],
   "source": [
    "sol.t"
   ]
  },
  {
   "cell_type": "code",
   "execution_count": null,
   "metadata": {},
   "outputs": [],
   "source": [
    "plot(sol, idxs = [fol.x, fol.RHS])"
   ]
  },
  {
   "cell_type": "code",
   "execution_count": null,
   "metadata": {},
   "outputs": [],
   "source": [
    "sol[fol.x]"
   ]
  },
  {
   "cell_type": "code",
   "execution_count": null,
   "metadata": {},
   "outputs": [],
   "source": [
    "sol[fol.RHS] #so you can extract this RHS!!"
   ]
  },
  {
   "cell_type": "markdown",
   "metadata": {},
   "source": [
    "## Time-variable forcing function"
   ]
  },
  {
   "cell_type": "code",
   "execution_count": null,
   "metadata": {},
   "outputs": [],
   "source": [
    "@mtkmodel FOL begin\n",
    "    @parameters begin\n",
    "        τ\n",
    "    end\n",
    "    @variables begin\n",
    "        x(t)\n",
    "        f(t)\n",
    "        RHS(t)\n",
    "    end\n",
    "    begin\n",
    "        D = Differential(t)\n",
    "    end\n",
    "    @equations begin\n",
    "        f ~ sin(t)\n",
    "        RHS ~ (f - x)/τ\n",
    "        D(x) ~ RHS\n",
    "    end\n",
    "end\n",
    "\n",
    "@macroexpand @named fol_varialbe_f = FOL()"
   ]
  },
  {
   "cell_type": "code",
   "execution_count": null,
   "metadata": {},
   "outputs": [],
   "source": [
    "FOL(name = :example_symbol) #equivalent code!"
   ]
  },
  {
   "cell_type": "markdown",
   "metadata": {},
   "source": [
    "OFTEN occuring scenario: time-series data as forcings!"
   ]
  },
  {
   "cell_type": "code",
   "execution_count": null,
   "metadata": {},
   "outputs": [],
   "source": [
    "value_vector = randn(10)"
   ]
  },
  {
   "cell_type": "markdown",
   "metadata": {},
   "source": [
    "`t > 10 ? value_vector[end] : value_vector[Int(floor(t))+1*]`\n",
    "is equivalent to\n",
    "```\n",
    "if t > 10\n",
    "    value_vector[end]\n",
    "elseif t < 10\n",
    "    value_vector[Int(floor(t)+1)]\n",
    "end\n",
    "\n",
    "```"
   ]
  },
  {
   "cell_type": "code",
   "execution_count": null,
   "metadata": {},
   "outputs": [],
   "source": [
    "# @macroexpand @register_symbolic f_fun(t)"
   ]
  },
  {
   "cell_type": "code",
   "execution_count": null,
   "metadata": {},
   "outputs": [],
   "source": [
    "#the following is an abbreviation of if ... \n",
    "f_fun(t) = t >= 10 ? value_vector[end] : value_vector[Int(floor(t))+1]\n",
    "f_fun.(0:0.5:10)\n",
    "@register_symbolic f_fun(t)\n",
    "\n",
    "@mtkmodel FOLex begin\n",
    "    @parameters begin\n",
    "        τ\n",
    "    end\n",
    "    @variables begin\n",
    "        x(t)\n",
    "        f(t)\n",
    "        RHS(t)\n",
    "    end\n",
    "    # @structural_parameters begin\n",
    "    #     h = 1\n",
    "    # end\n",
    "    begin\n",
    "        D = Differential(t)\n",
    "    end\n",
    "    @equations begin\n",
    "        f ~ f_fun(t)\n",
    "        RHS ~ (f - x)/τ\n",
    "        D(x) ~ RHS\n",
    "    end\n",
    "end\n",
    "\n",
    "@mtkbuild fol_external = FOLex()\n",
    "\n",
    "prob = ODEProblem(\n",
    "    fol_external,\n",
    "    [fol_external.x => 0.0],\n",
    "    (0.0, 10.0),\n",
    "    [fol_external.τ => 0.75]\n",
    ")\n",
    "sol = solve(prob)\n",
    "plot(sol, idxs = [fol_external.x, fol_external.RHS, fol_external.f])"
   ]
  },
  {
   "cell_type": "markdown",
   "metadata": {},
   "source": [
    "## Own experiment: other way of implementing\n",
    "\n",
    "Another way of making ODEsystems! https://docs.sciml.ai/ModelingToolkit/stable/tutorials/programmatically_generating/#programmatically  I think I prefer it this way"
   ]
  },
  {
   "cell_type": "code",
   "execution_count": null,
   "metadata": {},
   "outputs": [],
   "source": [
    "# @variables t\n",
    "# D = Differential(t)\n",
    "\n",
    "function test_model(;name) #so name is a keyword argument, you have to provide the key!\n",
    "    @parameters τ\n",
    "    @variables x(t) f(t) RHS(t)\n",
    "    D = Differential(t)\n",
    "    eqs = [\n",
    "        f ~ sin(t),\n",
    "        RHS ~ (f - x)/τ,\n",
    "        D(x) ~ RHS\n",
    "    ]\n",
    "    return ODESystem(eqs; name, defaults = Dict(τ => 0.75))\n",
    "end\n",
    "#test_model(name = :test_model)\n",
    "@named test = test_model()\n",
    "test = complete(structural_simplify(test))\n",
    "\n",
    "prob = ODEProblem(test, [test.x => 0.0], (0.0, 10.0))\n",
    "solution = solve(prob)\n",
    "plot(solution, idxs = [test.RHS, test.x, test.τ])"
   ]
  },
  {
   "cell_type": "markdown",
   "metadata": {},
   "source": [
    "## Component based models\n",
    "\n",
    "So combining multiple models!\n",
    "\n",
    "FACTORY -> from here MULTIPLE initialisations! "
   ]
  },
  {
   "cell_type": "code",
   "execution_count": null,
   "metadata": {},
   "outputs": [],
   "source": [
    "function fol_factory(seperate = false; name)  #so name is a non-necessary keyword argument\n",
    "    @parameters τ\n",
    "    @variables t x(t) f(t) RHS(t)\n",
    "\n",
    "    eqs = seperate ? [\n",
    "        RHS ~ (f - x)/τ,D(x) ~ RHS] : #if seperate is true, then RHS seperate from the ODE\n",
    "        D(x) ~ (f - x)/τ\n",
    "    ODESystem(eqs; name)\n",
    "end "
   ]
  },
  {
   "cell_type": "code",
   "execution_count": null,
   "metadata": {},
   "outputs": [],
   "source": [
    "fol_1 = fol_factory(name = :fol_1) #symbol as name!"
   ]
  },
  {
   "cell_type": "code",
   "execution_count": null,
   "metadata": {},
   "outputs": [],
   "source": [
    "fol_2 = fol_factory(true, name = :fol_2) #symbol as name!"
   ]
  },
  {
   "cell_type": "markdown",
   "metadata": {},
   "source": [
    "You can now CONNECT these systems!"
   ]
  },
  {
   "cell_type": "code",
   "execution_count": null,
   "metadata": {},
   "outputs": [],
   "source": [
    "connections = [fol_1.f ~ 1.5, fol_2.f ~ fol_1.x]"
   ]
  },
  {
   "cell_type": "code",
   "execution_count": null,
   "metadata": {},
   "outputs": [],
   "source": [
    "ODESystem(connections, name = :connected) #you must provide a name!"
   ]
  },
  {
   "cell_type": "code",
   "execution_count": null,
   "metadata": {},
   "outputs": [],
   "source": [
    "connected = compose(ODESystem(connections, name = :connected), fol_1, fol_2)"
   ]
  },
  {
   "cell_type": "code",
   "execution_count": null,
   "metadata": {},
   "outputs": [],
   "source": [
    "connected.fol_1"
   ]
  },
  {
   "cell_type": "code",
   "execution_count": null,
   "metadata": {},
   "outputs": [],
   "source": [
    "connected.fol_2"
   ]
  },
  {
   "cell_type": "code",
   "execution_count": null,
   "metadata": {},
   "outputs": [],
   "source": [
    "connected.fol_2.x"
   ]
  },
  {
   "cell_type": "markdown",
   "metadata": {},
   "source": [
    "The system can be simplified!"
   ]
  },
  {
   "cell_type": "code",
   "execution_count": null,
   "metadata": {},
   "outputs": [],
   "source": [
    "connected_simp = structural_simplify(connected)"
   ]
  },
  {
   "cell_type": "markdown",
   "metadata": {},
   "source": [
    "https://arxiv.org/ftp/arxiv/papers/2103/2103.05244.pdf"
   ]
  },
  {
   "cell_type": "code",
   "execution_count": null,
   "metadata": {},
   "outputs": [],
   "source": [
    "full_equations(connected_simp) #combines all the info we gave!"
   ]
  },
  {
   "cell_type": "code",
   "execution_count": null,
   "metadata": {},
   "outputs": [],
   "source": [
    "u0 =  [fol_1.x => -0.5,\n",
    "    fol_2.x => 1.0]\n",
    "p = [fol_1.τ => 2.0,\n",
    "    fol_2.τ => 4.0]\n",
    "\n",
    "prob = ODEProblem(connected_simp, u0, (0.0, 10.0), p)\n",
    "sol = solve(prob)\n",
    "plot(solve(prob))"
   ]
  },
  {
   "cell_type": "code",
   "execution_count": null,
   "metadata": {},
   "outputs": [],
   "source": [
    "sol[fol_2.RHS]"
   ]
  },
  {
   "cell_type": "code",
   "execution_count": null,
   "metadata": {},
   "outputs": [],
   "source": []
  }
 ],
 "metadata": {
  "kernelspec": {
   "display_name": "Julia 1.9.3",
   "language": "julia",
   "name": "julia-1.9"
  },
  "language_info": {
   "file_extension": ".jl",
   "mimetype": "application/julia",
   "name": "julia",
   "version": "1.9.3"
  }
 },
 "nbformat": 4,
 "nbformat_minor": 2
}
