{
 "cells": [
  {
   "cell_type": "code",
   "execution_count": null,
   "metadata": {},
   "outputs": [],
   "source": [
    "using DrWatson \n",
    "@quickactivate \"diff_gleam\""
   ]
  },
  {
   "cell_type": "markdown",
   "metadata": {},
   "source": [
    "Installing ModelingToolkit (was only needed once)"
   ]
  },
  {
   "cell_type": "code",
   "execution_count": null,
   "metadata": {},
   "outputs": [],
   "source": [
    "using Pkg\n",
    "Pkg.add(\"ModelingToolkit\")\n",
    "Pkg.add(\"DifferentialEquations\")\n",
    "Pkg.add(\"Plots\")"
   ]
  },
  {
   "cell_type": "markdown",
   "metadata": {},
   "source": [
    "First simple ODE\n",
    "$$\n",
    "\\frac{dx}{dt} = \\dot x  = \\frac{f(t) - x(t)}{\\tau}\n",
    "$$\n",
    "Start with $f(t) = 1$\n",
    "\n",
    "Introduction from https://docs.sciml.ai/ModelingToolkit/stable/tutorials/ode_modeling/ "
   ]
  },
  {
   "cell_type": "code",
   "execution_count": null,
   "metadata": {},
   "outputs": [],
   "source": [
    "using ModelingToolkit\n",
    "\n",
    "@variables t\n",
    "D = Differential(t)\n",
    "\n",
    "@mtkmodel FOL begin\n",
    "    @parameters begin\n",
    "        τ #parameters\n",
    "    end\n",
    "    @variables begin\n",
    "        x(t) #state variables\n",
    "    end\n",
    "    @equations begin\n",
    "        D(x) ~ (1 - x) /τ #not x(t)\n",
    "        #tilde anlog to = here\n",
    "    end\n",
    "end\n",
    "\n",
    "@mtkbuild fol = FOL()"
   ]
  },
  {
   "cell_type": "code",
   "execution_count": null,
   "metadata": {},
   "outputs": [],
   "source": [
    "using DifferentialEquations\n",
    "using Plots \n",
    "\n",
    "prob = ODEProblem(\n",
    "    fol, #f = ODE function\n",
    "    [fol.x => 0.0], #tje initial conditions\n",
    "    (0,10), #tspan\n",
    "    [fol.τ => 3.0], #parameters\n",
    ")\n",
    "plot(solve(prob))"
   ]
  }
 ],
 "metadata": {
  "kernelspec": {
   "display_name": "Julia 1.9.3",
   "language": "julia",
   "name": "julia-1.9"
  },
  "language_info": {
   "file_extension": ".jl",
   "mimetype": "application/julia",
   "name": "julia",
   "version": "1.9.3"
  }
 },
 "nbformat": 4,
 "nbformat_minor": 2
}
